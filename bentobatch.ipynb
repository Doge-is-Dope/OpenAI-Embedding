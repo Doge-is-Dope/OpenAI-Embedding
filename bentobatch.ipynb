{
 "cells": [
  {
   "cell_type": "code",
   "execution_count": 1,
   "metadata": {},
   "outputs": [],
   "source": [
    "# import libraries\n",
    "import os\n",
    "import re\n",
    "import requests\n",
    "import tiktoken  # for counting tokens\n",
    "import pandas as pd  # for storing text and embeddings data\n",
    "import urllib.request  # for downloading html\n",
    "from bs4 import BeautifulSoup  # for parsing html\n",
    "from collections import deque\n",
    "from html.parser import HTMLParser\n",
    "from openai import OpenAI  # for calling the OpenAI API\n",
    "from tenacity import (\n",
    "    retry,\n",
    "    wait_random_exponential,\n",
    "    stop_after_attempt,\n",
    ")  # for retrying API calls\n",
    "from urllib.parse import urlparse\n",
    "from utils.embeddings_utils import cosine_similarity\n",
    "\n",
    "# models\n",
    "EMBEDDING_MODEL = \"text-embedding-3-small\"\n",
    "GPT_MODEL = \"gpt-4o\""
   ]
  },
  {
   "cell_type": "code",
   "execution_count": 2,
   "metadata": {},
   "outputs": [],
   "source": [
    "# constants\n",
    "domain = \"app.bentobatch.com\"\n",
    "full_url = \"https://app.bentobatch.com/\"\n",
    "client = OpenAI(api_key=os.environ[\"OPENAI_API_KEY\"])"
   ]
  },
  {
   "cell_type": "markdown",
   "metadata": {},
   "source": [
    "# Crawl Web Pages\n",
    "\n",
    "Given a list of URLs, crawl each page and return the content of the page.\n"
   ]
  },
  {
   "cell_type": "code",
   "execution_count": 3,
   "metadata": {},
   "outputs": [],
   "source": [
    "# Regex pattern to match a URL\n",
    "HTTP_URL_PATTERN = r\"^http[s]*://.+\"\n",
    "\n",
    "\n",
    "# Create a class to parse the HTML and get the hyperlinks\n",
    "class HyperlinkParser(HTMLParser):\n",
    "    def __init__(self):\n",
    "        super().__init__()\n",
    "        # Create a list to store the hyperlinks\n",
    "        self.hyperlinks = []\n",
    "\n",
    "    # Override the HTMLParser's handle_starttag method to get the hyperlinks\n",
    "    def handle_starttag(self, tag, attrs):\n",
    "        attrs = dict(attrs)\n",
    "\n",
    "        # If the tag is an anchor tag and it has an href attribute, add the href attribute to the list of hyperlinks\n",
    "        if tag == \"a\" and \"href\" in attrs:\n",
    "            self.hyperlinks.append(attrs[\"href\"])\n",
    "\n",
    "\n",
    "# Function to get the hyperlinks from a URL\n",
    "def get_hyperlinks(url):\n",
    "\n",
    "    user_agent = \"Mozilla/5.0\"\n",
    "    headers = {\"User-Agent\": user_agent}\n",
    "\n",
    "    # Try to open the URL and read the HTML\n",
    "    try:\n",
    "        request = urllib.request.Request(url=url, headers=headers)\n",
    "        # Open the URL and read the HTML\n",
    "        with urllib.request.urlopen(request) as response:\n",
    "\n",
    "            # If the response is not HTML, return an empty list\n",
    "            if not response.info().get(\"Content-Type\").startswith(\"text/html\"):\n",
    "                return []\n",
    "\n",
    "            # Decode the HTML\n",
    "            html = response.read().decode(\"utf-8\")\n",
    "    except Exception as e:\n",
    "        print(e)\n",
    "        return []\n",
    "\n",
    "    # Create the HTML Parser and then Parse the HTML to get hyperlinks\n",
    "    parser = HyperlinkParser()\n",
    "    parser.feed(html)\n",
    "\n",
    "    return parser.hyperlinks\n",
    "\n",
    "\n",
    "# Function to get the hyperlinks from a URL that are within the same domain\n",
    "def get_domain_hyperlinks(local_domain, url):\n",
    "    clean_links = []\n",
    "    for link in set(get_hyperlinks(url)):\n",
    "        clean_link = None\n",
    "\n",
    "        # If the link is a URL, check if it is within the same domain\n",
    "        if re.search(HTTP_URL_PATTERN, link):\n",
    "            # Parse the URL and check if the domain is the same\n",
    "            url_obj = urlparse(link)\n",
    "            if url_obj.netloc == local_domain:\n",
    "                clean_link = link\n",
    "\n",
    "        # If the link is not a URL, check if it is a relative link\n",
    "        else:\n",
    "            if link.startswith(\"/\"):\n",
    "                link = link[1:]\n",
    "            elif link.startswith(\"#\") or link.startswith(\"mailto:\"):\n",
    "                continue\n",
    "            clean_link = \"https://\" + local_domain + \"/\" + link\n",
    "\n",
    "        if clean_link is not None:\n",
    "            if clean_link.endswith(\"/\"):\n",
    "                clean_link = clean_link[:-1]\n",
    "            clean_links.append(clean_link)\n",
    "\n",
    "    # Return the list of hyperlinks that are within the same domain\n",
    "    return list(set(clean_links))\n",
    "\n",
    "\n",
    "def crawl(url):\n",
    "    # Parse the URL and get the domain\n",
    "    local_domain = urlparse(url).netloc\n",
    "\n",
    "    # Create a queue to store the URLs to crawl\n",
    "    queue = deque([url])\n",
    "\n",
    "    # Create a set to store the URLs that have already been seen (no duplicates)\n",
    "    seen = set([url])\n",
    "\n",
    "    # Create a directory to store the text files\n",
    "    if not os.path.exists(\"text/\"):\n",
    "        os.mkdir(\"text/\")\n",
    "\n",
    "    if not os.path.exists(\"text/\" + local_domain + \"/\"):\n",
    "        os.mkdir(\"text/\" + local_domain + \"/\")\n",
    "\n",
    "    # Create a directory to store the csv files\n",
    "    if not os.path.exists(\"processed\"):\n",
    "        os.mkdir(\"processed\")\n",
    "\n",
    "    # While the queue is not empty, continue crawling\n",
    "    while queue:\n",
    "\n",
    "        # Get the next URL from the queue\n",
    "        url = queue.pop()\n",
    "        print(url)  # for debugging and to see the progress\n",
    "\n",
    "        # Save text from the url to a <url>.txt file\n",
    "        with open(\n",
    "            \"text/\" + local_domain + \"/\" + url[8:].replace(\"/\", \"_\") + \".txt\", \"w\"\n",
    "        ) as f:\n",
    "\n",
    "            # Get the text from the URL using BeautifulSoup\n",
    "            soup = BeautifulSoup(requests.get(url).text, \"html.parser\")\n",
    "\n",
    "            # Get the content from the URL\n",
    "            text = soup.get_text()\n",
    "\n",
    "            # Write the data to the file\n",
    "            f.write(text)\n",
    "\n",
    "        # Get the hyperlinks from the URL and add them to the queue\n",
    "        for link in get_domain_hyperlinks(local_domain, url):\n",
    "            if link not in seen:\n",
    "                queue.append(link)\n",
    "                seen.add(link)"
   ]
  },
  {
   "cell_type": "code",
   "execution_count": 4,
   "metadata": {},
   "outputs": [],
   "source": [
    "# crawl(full_url)"
   ]
  },
  {
   "cell_type": "markdown",
   "metadata": {},
   "source": [
    "# Data Cleaning\n"
   ]
  },
  {
   "cell_type": "code",
   "execution_count": 5,
   "metadata": {},
   "outputs": [],
   "source": [
    "def remove_newlines(serie):\n",
    "    \"\"\"Remove newlines from a pandas series for better processing.\"\"\"\n",
    "    serie = serie.str.replace(\"\\n\", \" \")\n",
    "    serie = serie.str.replace(\"\\\\n\", \" \")\n",
    "    serie = serie.str.replace(\"  \", \" \")\n",
    "    serie = serie.str.replace(\"  \", \" \")\n",
    "    return serie"
   ]
  },
  {
   "cell_type": "code",
   "execution_count": 6,
   "metadata": {},
   "outputs": [],
   "source": [
    "# Create a list to store the data records\n",
    "data = []\n",
    "\n",
    "# Get all the text files in the text directory\n",
    "for file in os.listdir(\"text/\" + domain + \"/\"):\n",
    "\n",
    "    # Open the file and read the text\n",
    "    with open(\"text/\" + domain + \"/\" + file, \"r\") as f:\n",
    "        text = f.read()\n",
    "\n",
    "        # Omit the first 11 lines and the last 4 lines, then replace -, _, and #update with spaces.\n",
    "        data.append(\n",
    "            (\n",
    "                file[len(domain) + 6 : -4]\n",
    "                .replace(\"-\", \" \")\n",
    "                .replace(\"_\", \" \")\n",
    "                .replace(\"#update\", \"\"),\n",
    "                text,\n",
    "            )\n",
    "        )\n",
    "# Create a dataframe from the list of texts\n",
    "df = pd.DataFrame(data, columns=[\"fname\", \"text\"])\n",
    "df[\"text\"] = df.fname + \". \" + remove_newlines(df.text)\n",
    "\n",
    "if not os.path.exists(f\"processed/{domain}/\"):\n",
    "    os.mkdir(f\"processed/{domain}/\")\n",
    "df.to_csv(f\"processed/{domain}/data.csv\")"
   ]
  },
  {
   "cell_type": "code",
   "execution_count": 7,
   "metadata": {},
   "outputs": [],
   "source": [
    "# Retry up to 6 times with exponential backoff, starting at 1 second and maxing out at 20 seconds delay\n",
    "@retry(wait=wait_random_exponential(min=1, max=20), stop=stop_after_attempt(6))\n",
    "def get_embedding(text: str, model=EMBEDDING_MODEL):\n",
    "    # replace newlines, which can negatively affect performance.\n",
    "    text = text.replace(\"\\n\", \" \")\n",
    "\n",
    "    response = client.embeddings.create(input=[text], model=model)\n",
    "\n",
    "    return response.data[0].embedding"
   ]
  },
  {
   "cell_type": "code",
   "execution_count": 8,
   "metadata": {},
   "outputs": [
    {
     "data": {
      "text/html": [
       "<div>\n",
       "<style scoped>\n",
       "    .dataframe tbody tr th:only-of-type {\n",
       "        vertical-align: middle;\n",
       "    }\n",
       "\n",
       "    .dataframe tbody tr th {\n",
       "        vertical-align: top;\n",
       "    }\n",
       "\n",
       "    .dataframe thead th {\n",
       "        text-align: right;\n",
       "    }\n",
       "</style>\n",
       "<table border=\"1\" class=\"dataframe\">\n",
       "  <thead>\n",
       "    <tr style=\"text-align: right;\">\n",
       "      <th></th>\n",
       "      <th>fname</th>\n",
       "      <th>text</th>\n",
       "      <th>embedding</th>\n",
       "    </tr>\n",
       "  </thead>\n",
       "  <tbody>\n",
       "    <tr>\n",
       "      <th>0</th>\n",
       "      <td>pendle points</td>\n",
       "      <td>pendle points. Bento Batch | One Click. All se...</td>\n",
       "      <td>[-0.017359748482704163, -9.767817391548306e-05...</td>\n",
       "    </tr>\n",
       "    <tr>\n",
       "      <th>1</th>\n",
       "      <td>zora most minted</td>\n",
       "      <td>zora most minted. Bento Batch | One Click. All...</td>\n",
       "      <td>[-0.0002776383771561086, 0.0015714016044512391...</td>\n",
       "    </tr>\n",
       "    <tr>\n",
       "      <th>2</th>\n",
       "      <td>genesis liquidity</td>\n",
       "      <td>genesis liquidity. Bento Batch | One Click. Al...</td>\n",
       "      <td>[-0.006265711970627308, -0.005031391978263855,...</td>\n",
       "    </tr>\n",
       "    <tr>\n",
       "      <th>3</th>\n",
       "      <td>scroll airdrop hunting rookie</td>\n",
       "      <td>scroll airdrop hunting rookie. Bento Batch | O...</td>\n",
       "      <td>[-0.013441173359751701, -0.023603275418281555,...</td>\n",
       "    </tr>\n",
       "    <tr>\n",
       "      <th>4</th>\n",
       "      <td>zora famous creators</td>\n",
       "      <td>zora famous creators. Bento Batch | One Click....</td>\n",
       "      <td>[0.018052520230412483, 0.0011609457433223724, ...</td>\n",
       "    </tr>\n",
       "  </tbody>\n",
       "</table>\n",
       "</div>"
      ],
      "text/plain": [
       "                           fname  \\\n",
       "0                  pendle points   \n",
       "1               zora most minted   \n",
       "2              genesis liquidity   \n",
       "3  scroll airdrop hunting rookie   \n",
       "4           zora famous creators   \n",
       "\n",
       "                                                text  \\\n",
       "0  pendle points. Bento Batch | One Click. All se...   \n",
       "1  zora most minted. Bento Batch | One Click. All...   \n",
       "2  genesis liquidity. Bento Batch | One Click. Al...   \n",
       "3  scroll airdrop hunting rookie. Bento Batch | O...   \n",
       "4  zora famous creators. Bento Batch | One Click....   \n",
       "\n",
       "                                           embedding  \n",
       "0  [-0.017359748482704163, -9.767817391548306e-05...  \n",
       "1  [-0.0002776383771561086, 0.0015714016044512391...  \n",
       "2  [-0.006265711970627308, -0.005031391978263855,...  \n",
       "3  [-0.013441173359751701, -0.023603275418281555,...  \n",
       "4  [0.018052520230412483, 0.0011609457433223724, ...  "
      ]
     },
     "execution_count": 8,
     "metadata": {},
     "output_type": "execute_result"
    }
   ],
   "source": [
    "df[\"embedding\"] = df[\"text\"].apply(lambda x: get_embedding(x))\n",
    "if not os.path.exists(f\"processed/{domain}/\"):\n",
    "    os.mkdir(f\"processed/{domain}/\")\n",
    "df.to_csv(f\"processed/{domain}/embeddings.csv\")\n",
    "df.head()"
   ]
  },
  {
   "cell_type": "code",
   "execution_count": 9,
   "metadata": {},
   "outputs": [],
   "source": [
    "def search_relatedness(\n",
    "    query: str,\n",
    "    df: pd.DataFrame,\n",
    "    relatedness_fn=lambda x, y: cosine_similarity(x, y),\n",
    "    top_n: int = 100,\n",
    "):\n",
    "    # Get the embedding for the query\n",
    "    query_embedding = get_embedding(query)\n",
    "\n",
    "    strings_and_relatednesses = [\n",
    "        (row[\"text\"], relatedness_fn(query_embedding, row[\"embedding\"]))\n",
    "        for i, row in df.iterrows()\n",
    "    ]\n",
    "\n",
    "    strings_and_relatednesses.sort(key=lambda x: x[1], reverse=True)\n",
    "    strings, relatednesses = zip(*strings_and_relatednesses)\n",
    "    return strings[:top_n], relatednesses[:top_n]"
   ]
  },
  {
   "cell_type": "code",
   "execution_count": 10,
   "metadata": {},
   "outputs": [
    {
     "name": "stdout",
     "output_type": "stream",
     "text": [
      "relatedness=0.352\n"
     ]
    },
    {
     "data": {
      "text/plain": [
       "\"aave eth eth. Bento Batch | One Click. All set.Trading StrategiesDashboardConnect WalletTrading StrategiesDashboard© 2024 Bento BatchLeave us a feedbackTrading StrategiesBento Batch 🍱Deposit ETH and borrow ETH on AAVE [Normal-Mode]EthereumAAVEDefiLendingOne click to deposit ETH and borrow 70% equivalent value in ETH.Show more Batch details01SupplytoascollateralInteract with 0x893411...A8c7b2b902DisableE-ModeifitisenabledInteract with 0x87870B...0B4fA4E203DelegateborrowingpoweronthedebtWETHifneededInteract with 0xeA51d7...88Be0fFE04BorrowfromInteract with 0x893411...A8c7b2b9ETH AmountSupply to AAVE as collateralBalance MaxBorrow PercentagePercentage of the supplied ETH to be borrowed as ETH (Max: 70%)Refer to get 10% of your friend's BENTO BOXRefer to get 10% of your friend's BENTO BOX© 2024 Bento BatchLeave us a feedback\""
      ]
     },
     "metadata": {},
     "output_type": "display_data"
    },
    {
     "name": "stdout",
     "output_type": "stream",
     "text": [
      "relatedness=0.349\n"
     ]
    },
    {
     "data": {
      "text/plain": [
       "\"aave eth eth emode. Bento Batch | One Click. All set.Trading StrategiesDashboardConnect WalletTrading StrategiesDashboard© 2024 Bento BatchLeave us a feedbackTrading StrategiesBento Batch 🍱Deposit ETH and borrow ETH on AAVE [E-Mode]EthereumAAVEDefiLendingOne click to deposit ETH and borrow 85% equivalent value in ETH.Show more Batch details01SupplytoascollateralInteract with 0x893411...A8c7b2b902EnableE-ModeifitisdisabledInteract with 0x87870B...0B4fA4E203DelegateborrowingpoweronthedebtWETHifneededInteract with 0xeA51d7...88Be0fFE04BorrowfromInteract with 0x893411...A8c7b2b9ETH AmountSupply to AAVE as collateralBalance MaxBorrow PercentagePercentage of the supplied ETH to be borrowed as ETH (Max: 85%)Refer to get 10% of your friend's BENTO BOXRefer to get 10% of your friend's BENTO BOX© 2024 Bento BatchLeave us a feedback\""
      ]
     },
     "metadata": {},
     "output_type": "display_data"
    },
    {
     "name": "stdout",
     "output_type": "stream",
     "text": [
      "relatedness=0.328\n"
     ]
    },
    {
     "data": {
      "text/plain": [
       "\"aave usdt eth. Bento Batch | One Click. All set.Trading StrategiesDashboardConnect WalletTrading StrategiesDashboard© 2024 Bento BatchLeave us a feedbackTrading StrategiesBento Batch 🍱Deposit USDT to borrow ETH on AAVEEthereumAAVEDefiLendingOne click to deposit USDT and borrow 70% equivalent value in ETH.Show more Batch details01ApprovetoaccessInteract with 0xdAC17F...3D831ec702SupplytoascollateralInteract with 0x87870B...0B4fA4E203DisableE-ModeifitisenabledInteract with 0x87870B...0B4fA4E204DelegateborrowingpoweronthedebtWETHifneededInteract with 0xeA51d7...88Be0fFE05BorrowfromInteract with 0x893411...A8c7b2b9USDT AmountSupply to AAVE as collateralBalance MaxBorrow PercentagePercentage of the supplied USDT to be borrowed as ETH (Max: 70%)Refer to get 10% of your friend's BENTO BOXRefer to get 10% of your friend's BENTO BOX© 2024 Bento BatchLeave us a feedback\""
      ]
     },
     "metadata": {},
     "output_type": "display_data"
    },
    {
     "name": "stdout",
     "output_type": "stream",
     "text": [
      "relatedness=0.327\n"
     ]
    },
    {
     "data": {
      "text/plain": [
       "\"aave usdc eth. Bento Batch | One Click. All set.Trading StrategiesDashboardConnect WalletTrading StrategiesDashboard© 2024 Bento BatchLeave us a feedbackTrading StrategiesBento Batch 🍱Deposit USDC to borrow ETH on AAVEEthereumAAVEDefiLendingOne click to deposit USDC and borrow 70% equivalent value in ETH.Show more Batch details01ApprovetoaccessInteract with 0xA0b869...3606eB4802SupplytoascollateralInteract with 0x87870B...0B4fA4E203DisableE-ModeifitisenabledInteract with 0x87870B...0B4fA4E204DelegateborrowingpoweronthedebtWETHifneededInteract with 0xeA51d7...88Be0fFE05BorrowfromInteract with 0x893411...A8c7b2b9USDC AmountSupply to AAVE as collateralBalance MaxBorrow PercentagePercentage of the supplied USDC to be borrowed as ETH (Max: 70%)Refer to get 10% of your friend's BENTO BOXRefer to get 10% of your friend's BENTO BOX© 2024 Bento BatchLeave us a feedback\""
      ]
     },
     "metadata": {},
     "output_type": "display_data"
    },
    {
     "name": "stdout",
     "output_type": "stream",
     "text": [
      "relatedness=0.214\n"
     ]
    },
    {
     "data": {
      "text/plain": [
       "\"aerodrome degen liquidity. Bento Batch | One Click. All set.Trading StrategiesDashboardConnect WalletTrading StrategiesDashboard© 2024 Bento BatchLeave us a feedbackTrading StrategiesBento Batch 🍱Farm vAMM-WETH/DEGEN LP on AerodromeBaseAerodromeDefiLiquidity ProviderWrap ETH and provide $WETH/$DEGEN liquidity on Aerodrome in One ClickShow more Batch details01WraptoWETHInteract with 0x420000...0000000602ApproveWETHforprovidingliquidityInteract with 0x420000...0000000603ApproveDEGENforprovidingliquidityInteract with 0x4ed4E8...B0Efefed04ProvideWETHandDEGENliquidityonAerodrome Interact with 0xcF77a3...eb874E4305ApproveLPToken(vAMM-WETH/DEGEN)forfarmingInteract with 0x2C4909...5659aBf306DepositLPtoken(vAMM-WETH/DEGEN)andstartfarmingInteract with 0x86a126...bcf736d5ETH AmountAmount desired to provide liquidityBalance MaxDEGEN amountAmount desired to provide liquidityBalance MaxRefer to get 10% of your friend's BENTO BOXRefer to get 10% of your friend's BENTO BOX© 2024 Bento BatchLeave us a feedback\""
      ]
     },
     "metadata": {},
     "output_type": "display_data"
    }
   ],
   "source": [
    "# examples\n",
    "strings, relatednesses = search_relatedness(\"AAVE cases\", df, top_n=5)\n",
    "for string, relatedness in zip(strings, relatednesses):\n",
    "    print(f\"{relatedness=:.3f}\")\n",
    "    display(string)"
   ]
  },
  {
   "cell_type": "markdown",
   "metadata": {},
   "source": [
    "# Ask\n"
   ]
  },
  {
   "cell_type": "code",
   "execution_count": 11,
   "metadata": {},
   "outputs": [],
   "source": [
    "def num_tokens(text: str, model: str = GPT_MODEL) -> int:\n",
    "    \"\"\"Return the number of tokens in a string.\"\"\"\n",
    "    encoding = tiktoken.encoding_for_model(model)\n",
    "    return len(encoding.encode(text))\n",
    "\n",
    "\n",
    "def query_message(query: str, df: pd.DataFrame, model: str, token_budget: int) -> str:\n",
    "    \"\"\"Return a message for GPT, with relevant source texts pulled from a dataframe.\"\"\"\n",
    "    strings, relatedness = search_relatedness(query, df)\n",
    "    introduction = 'You are the customer service of BentoBatch. Use the provided data to answer the subsequent question. If the answer cannot be found in the data, simply state \"I do not have that information.\"'\n",
    "    question = f\"\\n\\nQuestion: {query}\"\n",
    "    message = introduction\n",
    "    for string in strings:\n",
    "        data = f'\\n\\nData:\\n\"\"\"\\n{string}\\n\"\"\"'\n",
    "        if num_tokens(message + data + question, model=model) > token_budget:\n",
    "            break\n",
    "        else:\n",
    "            message += data\n",
    "    return message + question\n",
    "\n",
    "\n",
    "def ask(\n",
    "    query: str,\n",
    "    df: pd.DataFrame = df,\n",
    "    model: str = GPT_MODEL,\n",
    "    token_budget: int = 4096 - 500,\n",
    "    print_message: bool = False,\n",
    ") -> str:\n",
    "    \"\"\"Answers a query using GPT and a dataframe of relevant texts and embeddings.\"\"\"\n",
    "    message = query_message(query, df, model=model, token_budget=token_budget)\n",
    "    if print_message:\n",
    "        print(message)\n",
    "    messages = [\n",
    "        {\n",
    "            \"role\": \"system\",\n",
    "            \"content\": \"You answer questions regarding BentoBatch.\",\n",
    "        },\n",
    "        {\"role\": \"user\", \"content\": message},\n",
    "    ]\n",
    "    response = client.chat.completions.create(\n",
    "        model=model, messages=messages, temperature=0\n",
    "    )\n",
    "    response_message = response.choices[0].message.content\n",
    "    return response_message"
   ]
  },
  {
   "cell_type": "markdown",
   "metadata": {},
   "source": [
    "### Examples\n"
   ]
  },
  {
   "cell_type": "code",
   "execution_count": 12,
   "metadata": {},
   "outputs": [
    {
     "data": {
      "text/plain": [
       "'BentoBatch is a Streamlined Transaction Layer (STL) that leverages Account Abstraction techniques to upscale blockchain efficiency. It provides an easier, cheaper, and safer on-chain experience by consolidating multiple on-chain interactions into a single transaction, which can be executed with just one click. This eliminates the need for users to sign each transaction individually or understand every transaction detail.'"
      ]
     },
     "execution_count": 12,
     "metadata": {},
     "output_type": "execute_result"
    }
   ],
   "source": [
    "ask(\"What is BentoBatch?\")"
   ]
  },
  {
   "cell_type": "code",
   "execution_count": 13,
   "metadata": {},
   "outputs": [
    {
     "data": {
      "text/plain": [
       "'Bento Box is a reward that you can earn by executing a Batch on Bento Batch. The more transactions per Batch, higher gas fees, and larger volume input, the more Bento Boxes you will receive as rewards. Additionally, you can earn an extra 10% of Bento Boxes by referring friends.'"
      ]
     },
     "execution_count": 13,
     "metadata": {},
     "output_type": "execute_result"
    }
   ],
   "source": [
    "ask(\"What is Bento Box?\")"
   ]
  },
  {
   "cell_type": "code",
   "execution_count": 14,
   "metadata": {},
   "outputs": [
    {
     "data": {
      "text/plain": [
       "\"BentoBatch offers several advantages over interacting with dApps directly:\\n\\n1. **Streamlined Transactions**: With BentoBatch's Streamlined Transaction Layer (STL), you can consolidate multiple on-chain interactions into a single transaction. This eliminates the need for multiple signs and confirmations, making the process more efficient and user-friendly.\\n\\n2. **Efficiency and Cost Savings**: By bundling transactions, BentoBatch can help reduce gas fees and save time. This is particularly beneficial when dealing with high gas fees or complex interactions that would otherwise require multiple steps.\\n\\n3. **Ease of Use**: Users do not need to understand every transaction detail or sign each transaction individually. They simply define their objectives, and BentoBatch facilitates their needs efficiently.\\n\\n4. **Rewards**: Executing Batches can earn you Bento Boxes, which are rewards that can be accumulated. Additionally, referring friends can earn you an extra 10% of their Bento Boxes as a bonus.\\n\\n5. **Integrated Ecosystem**: BentoBatch supports multiple EVM chains and is integrated with various protocols, making it a versatile tool for interacting with different blockchain environments.\\n\\n6. **Security**: Using smart wallets like Blocto Wallet, BentoBatch provides a safer on-chain experience by leveraging Account Abstraction techniques.\\n\\nOverall, BentoBatch simplifies and enhances the user experience for on-chain interactions, making it a valuable tool for both novice and experienced blockchain users.\""
      ]
     },
     "execution_count": 14,
     "metadata": {},
     "output_type": "execute_result"
    }
   ],
   "source": [
    "ask(\"Why do I need BentoBatch if I can interact with the dApps directly?\")"
   ]
  },
  {
   "cell_type": "code",
   "execution_count": 15,
   "metadata": {},
   "outputs": [
    {
     "data": {
      "text/plain": [
       "'The cases related to AAVE are:\\n\\n1. **Deposit ETH and borrow ETH on AAVE [Normal-Mode]**\\n   - One click to deposit ETH and borrow 70% equivalent value in ETH.\\n\\n2. **Deposit ETH and borrow ETH on AAVE [E-Mode]**\\n   - One click to deposit ETH and borrow 85% equivalent value in ETH.\\n\\n3. **Deposit USDC to borrow ETH on AAVE**\\n   - One click to deposit USDC and borrow 70% equivalent value in ETH.\\n\\n4. **Deposit USDT to borrow ETH on AAVE**\\n   - One click to deposit USDT and borrow 70% equivalent value in ETH.'"
      ]
     },
     "execution_count": 15,
     "metadata": {},
     "output_type": "execute_result"
    }
   ],
   "source": [
    "ask(\"What cases are related to AAVE?\")"
   ]
  },
  {
   "cell_type": "code",
   "execution_count": 16,
   "metadata": {},
   "outputs": [
    {
     "data": {
      "text/plain": [
       "'The following cases are official collaborations:\\n\\n1. **Ether.fi**:\\n   - Earn extra Ether.fi points and bridge Ethereum to Arbitrum.\\n   - Stake ETH to EtherFi and Zircuit to earn Zircuit points, EtherFi loyalty points, and EigenLayer Points.\\n   \\n2. **Swell**:\\n   - Earn extra 15% Zircuit Points with Swell Restaking.\\n   \\n3. **Ethena**:\\n   - Earn extra 15% Zircuit Points with Ethena Restaking by USDC.\\n   - Earn extra 15% Zircuit Points with Ethena Restaking by USDT.\\n   \\n4. **Renzo**:\\n   - Earn extra 15% Zircuit Points with Renzo Restaking by ETH.\\n   \\n5. **Penpad**:\\n   - Earn extra 10% Penpad Points and share up to 10000 $BLT prize pool.\\n   \\n6. **Genesis**:\\n   - Earn extra 20% GenesisLRT restaking points and get x15 Gems boost.\\n   \\n7. **Zircuit**:\\n   - Restake with Eigenpie & Swell & Zircuit.'"
      ]
     },
     "execution_count": 16,
     "metadata": {},
     "output_type": "execute_result"
    }
   ],
   "source": [
    "ask(\"What cases are official collaborations?\")"
   ]
  },
  {
   "cell_type": "code",
   "execution_count": 17,
   "metadata": {},
   "outputs": [
    {
     "data": {
      "text/plain": [
       "'With your USDC, you have several options on Bento Batch:\\n\\n1. **Deposit USDC to Borrow ETH on AAVE**:\\n   - Deposit USDC and borrow up to 70% of its equivalent value in ETH.\\n   - Interact with AAVE for lending and borrowing.\\n\\n2. **Earn Extra 15% Zircuit Points with Ethena Restaking by USDC**:\\n   - Swap USDC to USDe and deposit USDe on Zircuit in one click.\\n   - Earn extra Zircuit Points through this process.\\n\\n3. **Yield Farming on Yearn with USDC.e**:\\n   - Deposit USDC.e to Yearn finance’s V3 Vault.\\n   - Auto compound and yield high APY% with USDC.e.\\n\\n4. **On-Chain Interaction on Scroll: Professional**:\\n   - Engage in various on-chain interactions including swapping, wrapping, lending, and borrowing.\\n   - Boost your on-chain volume and save clicks through automated processes.\\n\\nThese options provide different benefits such as borrowing, earning extra points, yield farming, and on-chain interactions. Choose the one that best fits your investment strategy.'"
      ]
     },
     "execution_count": 17,
     "metadata": {},
     "output_type": "execute_result"
    }
   ],
   "source": [
    "ask(\"I have a plenty of usdc, what can I do with it?\")"
   ]
  },
  {
   "cell_type": "code",
   "execution_count": 18,
   "metadata": {},
   "outputs": [
    {
     "data": {
      "text/plain": [
       "'I do not have that information.'"
      ]
     },
     "execution_count": 18,
     "metadata": {},
     "output_type": "execute_result"
    }
   ],
   "source": [
    "ask(\"Is it safe to use BentoBatch?\")"
   ]
  },
  {
   "cell_type": "code",
   "execution_count": 19,
   "metadata": {},
   "outputs": [
    {
     "data": {
      "text/plain": [
       "'I do not have that information.'"
      ]
     },
     "execution_count": 19,
     "metadata": {},
     "output_type": "execute_result"
    }
   ],
   "source": [
    "ask(\"How do you think this project should develop its tokenomics?\")"
   ]
  }
 ],
 "metadata": {
  "kernelspec": {
   "display_name": "env",
   "language": "python",
   "name": "python3"
  },
  "language_info": {
   "codemirror_mode": {
    "name": "ipython",
    "version": 3
   },
   "file_extension": ".py",
   "mimetype": "text/x-python",
   "name": "python",
   "nbconvert_exporter": "python",
   "pygments_lexer": "ipython3",
   "version": "3.12.3"
  }
 },
 "nbformat": 4,
 "nbformat_minor": 2
}
